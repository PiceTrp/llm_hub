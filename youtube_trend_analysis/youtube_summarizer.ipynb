{
 "cells": [
  {
   "cell_type": "code",
   "execution_count": 1,
   "id": "745b8973-d699-4416-b299-783bc8a8a969",
   "metadata": {
    "tags": []
   },
   "outputs": [],
   "source": [
    "import os\n",
    "from langchain.text_splitter import RecursiveCharacterTextSplitter\n",
    "from langchain.chains.summarize import load_summarize_chain\n",
    "from langchain_community.chat_models import ChatOllama\n",
    "from langchain.prompts import PromptTemplate\n",
    "from youtube_transcript_api import YouTubeTranscriptApi\n",
    "from typing import Optional\n",
    "import re"
   ]
  },
  {
   "cell_type": "markdown",
   "id": "f0105e52-48b6-4e12-a82b-a4b7e603a5cd",
   "metadata": {},
   "source": [
    "will continue: https://medium.com/@sahin.samia/how-to-build-an-ai-powered-youtube-video-summariser-app-with-llama-3-2-and-langchain-28c2b6df76da"
   ]
  },
  {
   "cell_type": "markdown",
   "id": "1cb0e967-9cee-4309-9866-0336d5891093",
   "metadata": {},
   "source": [
    "# Extract transcript from YouTube"
   ]
  },
  {
   "cell_type": "code",
   "execution_count": 2,
   "id": "dde20ca5-c629-4ca3-bbed-c0b62a89d824",
   "metadata": {
    "scrolled": true,
    "tags": []
   },
   "outputs": [
    {
     "name": "stdout",
     "output_type": "stream",
     "text": [
      "[0.60 - 3.27] (gentle music)\n",
      "[13.17 - 16.03] ♪ Little girl at a lonely well ♪\n",
      "[16.07 - 19.10] ♪ With the same little tale to\n",
      "tell ♪\n",
      "[19.13 - 22.13] ♪ Feeling trapped by the\n",
      "walls that hold her ♪\n",
      "[22.17 - 25.17] ♪ Feeling stuck in the\n",
      "story they've told her ♪\n",
      "[25.20 - 28.20] ♪ Another day where she fades\n",
      "away ♪\n",
      "[28.23 - 30.53] ♪ Never daring to disobey ♪\n",
      "[30.57 - 33.53] ♪ So she's dreaming all alone ♪\n",
      "[33.57 - 37.67] ♪ Sharing secrets with the stone\n",
      "♪\n",
      "[37.70 - 40.53] ♪ My father told me long ago ♪\n",
      "[40.57 - 44.07] ♪ I braved a bitter storm of\n",
      "snow ♪\n",
      "[44.10 - 49.10] ♪ Is that a girl I'll ever know\n",
      "again ♪\n",
      "[50.43 - 52.23] ♪ I'm waiting on a wish ♪\n",
      "[52.27 - 55.07] ♪ Beneath a thousand treetops ♪\n",
      "[55.10 - 57.50] ♪ And as the silver sky stops ♪\n",
      "[57.53 - 62.13] ♪ I send a whisper to the water\n",
      "♪\n",
      "[62.17 - 63.53] ♪ Waiting on a wish ♪\n",
      "[63.57 - 66.37] ♪ Holding out for someday ♪\n",
      "[66.40 - 69.17] ♪ Hoping somehow, some way ♪\n",
      "[69.20 - 73.30] ♪ I'll become my father's\n",
      "daughter ♪\n",
      "[73.33 - 76.10] ♪ I close my eyes and see ♪\n",
      "[76.13 - 78.67] ♪ The girl I'm meant to be ♪\n",
      "[78.70 - 81.57] ♪ Is she a part of me ♪\n",
      "[81.60 - 84.60] ♪ I've yet to find ♪\n",
      "[84.63 - 87.50] ♪ Wondering, \"will she appear\" ♪\n",
      "[87.53 - 90.57] ♪ Or will I be forever here ♪\n",
      "[90.60 - 92.30] ♪ Waiting on a wish ♪\n",
      "[92.33 - 95.63] (gentle music continues)\n",
      "[97.33 - 100.20] ♪ Little girl by a wild wood ♪\n",
      "[100.23 - 102.70] ♪ How she tries to be someone\n",
      "good ♪\n",
      "[102.73 - 105.47] ♪ But in the shadow the\n",
      "kingdom's caught in ♪\n",
      "[105.50 - 108.70] ♪ Somehow, fairness is long\n",
      "forgotten ♪\n",
      "[108.73 - 111.73] ♪ So will she rise, or bow her\n",
      "head ♪\n",
      "[111.77 - 114.57] ♪ Will she lead, or just be led\n",
      "♪\n",
      "[114.60 - 119.17] ♪ Is she the girl she\n",
      "always said she'd be ♪\n",
      "[119.20 - 120.57] (upbeat music)\n",
      "[120.60 - 122.33] ♪ I'm waiting on a wish ♪\n",
      "[122.37 - 124.70] ♪ Beneath a thousand treetops ♪\n",
      "[124.73 - 127.53] ♪ And as the silver sky stops ♪\n",
      "[127.57 - 131.67] ♪ I long to leave the walls\n",
      "behind me ♪\n",
      "[131.70 - 133.43] ♪ Waiting on a wish ♪\n",
      "[133.47 - 136.30] ♪ Holding out for someday ♪\n",
      "[136.33 - 138.70] ♪ Hoping somehow, some way ♪\n",
      "[138.73 - 142.73] ♪ There comes a miracle to find\n",
      "me ♪\n",
      "[142.77 - 145.60] ♪ I close my eyes and see ♪\n",
      "[145.63 - 148.53] ♪ The girl I'm meant to be ♪\n",
      "[148.57 - 153.57] ♪ Is she a part of me I've had\n",
      "to hide ♪\n",
      "[154.43 - 157.23] ♪ Wondering, \"will she appear\" ♪\n",
      "[157.27 - 160.20] ♪ Or will I spend another year ♪\n",
      "[160.23 - 162.17] ♪ Waiting on a wish ♪\n",
      "[162.20 - 164.73] ♪ They say all you have to do ♪\n",
      "[164.77 - 168.40] ♪ To make your wish come true ♪\n",
      "[168.43 - 173.43] ♪ Is let it echo, echo, echo,\n",
      "echo ♪\n",
      "[173.47 - 176.27] ♪ Your voice will carry through\n",
      "♪\n",
      "[176.30 - 179.47] ♪ And bring that dream to you ♪\n",
      "[179.50 - 183.23] ♪ Just like an echo, echo, echo\n",
      "♪\n",
      "[183.27 - 188.27] ♪ Well, I can hear the\n",
      "echo loud and clear ♪\n",
      "[189.03 - 191.47] ♪ But I'm still waiting here ♪\n",
      "(gentle music)\n"
     ]
    }
   ],
   "source": [
    "from youtube_transcript_api import YouTubeTranscriptApi\n",
    "\n",
    "\n",
    "def get_youtube_transcript(video_id):\n",
    "    \"\"\"\n",
    "    Retrieves the transcript of a YouTube video given its video ID.\n",
    "\n",
    "    Args:\n",
    "    video_id: The ID of the YouTube video.\n",
    "\n",
    "    Returns:\n",
    "    A list of dictionaries, where each dictionary represents a transcript segment,\n",
    "    or None if an error occurs or the transcript is not available. Each dictionary\n",
    "    contains the keys 'text', 'start', and 'duration'.\n",
    "    \"\"\"\n",
    "    try:\n",
    "        transcript = YouTubeTranscriptApi.get_transcript(video_id)\n",
    "        return transcript\n",
    "    except Exception as e:\n",
    "        print(f\"An error occurred: {e}\")\n",
    "        return None\n",
    "\n",
    "\n",
    "# Example usage: Replace 'YOUR_VIDEO_ID' with the actual video ID.\n",
    "video_id = '5K1-lIv1VAU'\n",
    "transcript = get_youtube_transcript(video_id)\n",
    "\n",
    "if transcript:\n",
    "    for segment in transcript:\n",
    "        print(f\"[{segment['start']:.2f} - {segment['start'] + segment['duration']:.2f}] {segment['text']}\")\n",
    "else:\n",
    "    print(\"Could not retrieve transcript.\")"
   ]
  },
  {
   "cell_type": "code",
   "execution_count": 4,
   "id": "83bf96a6-0cde-4f99-bf3b-754d6e10d6b5",
   "metadata": {
    "collapsed": true,
    "jupyter": {
     "outputs_hidden": true
    },
    "tags": []
   },
   "outputs": [
    {
     "data": {
      "text/plain": [
       "'(gentle music) ♪ Little girl at a lonely well ♪ ♪ With the same little tale to\\ntell ♪ ♪ Feeling trapped by the\\nwalls that hold her ♪ ♪ Feeling stuck in the\\nstory they\\'ve told her ♪ ♪ Another day where she fades\\naway ♪ ♪ Never daring to disobey ♪ ♪ So she\\'s dreaming all alone ♪ ♪ Sharing secrets with the stone\\n♪ ♪ My father told me long ago ♪ ♪ I braved a bitter storm of\\nsnow ♪ ♪ Is that a girl I\\'ll ever know\\nagain ♪ ♪ I\\'m waiting on a wish ♪ ♪ Beneath a thousand treetops ♪ ♪ And as the silver sky stops ♪ ♪ I send a whisper to the water\\n♪ ♪ Waiting on a wish ♪ ♪ Holding out for someday ♪ ♪ Hoping somehow, some way ♪ ♪ I\\'ll become my father\\'s\\ndaughter ♪ ♪ I close my eyes and see ♪ ♪ The girl I\\'m meant to be ♪ ♪ Is she a part of me ♪ ♪ I\\'ve yet to find ♪ ♪ Wondering, \"will she appear\" ♪ ♪ Or will I be forever here ♪ ♪ Waiting on a wish ♪ (gentle music continues) ♪ Little girl by a wild wood ♪ ♪ How she tries to be someone\\ngood ♪ ♪ But in the shadow the\\nkingdom\\'s caught in ♪ ♪ Somehow, fairness is long\\nforgotten ♪ ♪ So will she rise, or bow her\\nhead ♪ ♪ Will she lead, or just be led\\n♪ ♪ Is she the girl she\\nalways said she\\'d be ♪ (upbeat music) ♪ I\\'m waiting on a wish ♪ ♪ Beneath a thousand treetops ♪ ♪ And as the silver sky stops ♪ ♪ I long to leave the walls\\nbehind me ♪ ♪ Waiting on a wish ♪ ♪ Holding out for someday ♪ ♪ Hoping somehow, some way ♪ ♪ There comes a miracle to find\\nme ♪ ♪ I close my eyes and see ♪ ♪ The girl I\\'m meant to be ♪ ♪ Is she a part of me I\\'ve had\\nto hide ♪ ♪ Wondering, \"will she appear\" ♪ ♪ Or will I spend another year ♪ ♪ Waiting on a wish ♪ ♪ They say all you have to do ♪ ♪ To make your wish come true ♪ ♪ Is let it echo, echo, echo,\\necho ♪ ♪ Your voice will carry through\\n♪ ♪ And bring that dream to you ♪ ♪ Just like an echo, echo, echo\\n♪ ♪ Well, I can hear the\\necho loud and clear ♪ ♪ But I\\'m still waiting here ♪\\n(gentle music) '"
      ]
     },
     "execution_count": 4,
     "metadata": {},
     "output_type": "execute_result"
    }
   ],
   "source": [
    "all_texts = \"\"\n",
    "for i in transcript:\n",
    "    all_texts = all_texts + i['text'] + \" \"\n",
    "all_texts"
   ]
  },
  {
   "cell_type": "code",
   "execution_count": null,
   "id": "09821682-970b-40a9-bbaf-5f36fbf72944",
   "metadata": {},
   "outputs": [],
   "source": [
    "#Example of how to save it to a text file.\n",
    "def save_transcript_to_file(transcript, filename=\"transcript.txt\"):\n",
    "    if transcript:\n",
    "        with open(filename, \"w\", encoding=\"utf-8\") as f:\n",
    "            for segment in transcript:\n",
    "                f.write(f\"[{segment['start']:.2f} - {segment['start'] + segment['duration']:.2f}] {segment['text']}\\n\")\n",
    "        print(f\"Transcript saved to {filename}\")\n",
    "    else:\n",
    "        print(\"No transcript to save.\")\n",
    "\n",
    "save_transcript_to_file(transcript)"
   ]
  },
  {
   "cell_type": "markdown",
   "id": "694f20e6-5d70-4cd5-93df-e4411963d44f",
   "metadata": {},
   "source": [
    "# Setup Langchain & vertex AI"
   ]
  },
  {
   "cell_type": "code",
   "execution_count": 6,
   "id": "6f0129ad-5609-4562-aa1e-75ca443eaa8b",
   "metadata": {
    "tags": []
   },
   "outputs": [
    {
     "data": {
      "text/plain": [
       "'/Users/picetrp/Documents/Learn/My_Self_Learn/llm_hub/youtube_trend_analysis'"
      ]
     },
     "execution_count": 6,
     "metadata": {},
     "output_type": "execute_result"
    }
   ],
   "source": [
    "%pwd"
   ]
  },
  {
   "cell_type": "code",
   "execution_count": 8,
   "id": "36a66b67-45b1-4a0c-a708-2ea359fdbd16",
   "metadata": {
    "tags": []
   },
   "outputs": [
    {
     "name": "stdout",
     "output_type": "stream",
     "text": [
      "load environment variables\n"
     ]
    }
   ],
   "source": [
    "# setup langchain & langsmith\n",
    "# setup langsmith\n",
    "\n",
    "import getpass\n",
    "import os\n",
    "\n",
    "try:\n",
    "    # load environment variables from .env file (requires `python-dotenv`)\n",
    "    from dotenv import load_dotenv\n",
    "    print(\"load environment variables\")\n",
    "    load_dotenv()\n",
    "except ImportError:\n",
    "    pass\n",
    "\n",
    "os.environ[\"LANGSMITH_TRACING\"] = \"true\"\n",
    "if \"LANGSMITH_API_KEY\" not in os.environ:\n",
    "    os.environ[\"LANGSMITH_API_KEY\"] = getpass.getpass(\n",
    "        prompt=\"Enter your LangSmith API key (optional): \"\n",
    "    )\n",
    "if \"LANGSMITH_PROJECT\" not in os.environ:\n",
    "    os.environ[\"LANGSMITH_PROJECT\"] = getpass.getpass(\n",
    "        prompt='Enter your LangSmith Project Name (default = \"default\"): '\n",
    "    )\n",
    "    if not os.environ.get(\"LANGSMITH_PROJECT\"):\n",
    "        os.environ[\"LANGSMITH_PROJECT\"] = \"default\"\n",
    "    \n",
    "# vertex AI\n",
    "if \"GOOGLE_APPLICATION_CREDENTIALS\" not in os.environ:\n",
    "    os.environ[\"GOOGLE_APPLICATION_CREDENTIALS\"] = getpass.getpass(\n",
    "        prompt='Enter your GOOGLE_APPLICATION_CREDENTIALS (.json path): '\n",
    "    )"
   ]
  },
  {
   "cell_type": "code",
   "execution_count": 9,
   "id": "762570f7-aad9-4a23-9aa9-b24cb7e34668",
   "metadata": {
    "tags": []
   },
   "outputs": [],
   "source": [
    "# Ensure your VertexAI credentials are configured\n",
    "\n",
    "from langchain.chat_models import init_chat_model\n",
    "\n",
    "model = init_chat_model(\"gemini-2.0-flash-001\", model_provider=\"google_vertexai\")"
   ]
  },
  {
   "cell_type": "markdown",
   "id": "a3a25dba-368a-45e1-adca-e44c737e2fb6",
   "metadata": {},
   "source": [
    "# Create Summarizer Class"
   ]
  },
  {
   "cell_type": "code",
   "execution_count": null,
   "id": "c9932a6b-b6a5-45b1-ac80-3d42bf1c2ba9",
   "metadata": {},
   "outputs": [],
   "source": [
    "class YouTubeSummarizer:\n",
    "    def __init__(self):\n",
    "        \"\"\"\n",
    "        Initialize the YouTube Summarizer\n",
    "        \"\"\"\n",
    "        \n",
    "        self.llm = ChatOllama(temperature=0, model=\"llama3.2\")\n",
    "        \n",
    "        # Initialize text splitter for long transcripts\n",
    "        self.text_splitter = RecursiveCharacterTextSplitter(\n",
    "            chunk_size=10000,\n",
    "            chunk_overlap=1000,\n",
    "            separators=[\"\\n\\n\", \"\\n\", \" \", \"\"]\n",
    "        )\n",
    "        \n",
    "        # Custom prompts for the summary chain\n",
    "        self.map_prompt_template = \"\"\"\n",
    "        Summarize the following part of a YouTube video transcript:\n",
    "        \"{text}\"\n",
    "        \n",
    "        KEY POINTS AND TAKEAWAYS:\n",
    "        \"\"\"\n",
    "        \n",
    "        self.combine_prompt_template = \"\"\"\n",
    "        Create a detailed summary of the YouTube video based on these transcript summaries:\n",
    "        \"{text}\"\n",
    "        \n",
    "        Please structure the summary as follows:\n",
    "        1. Main Topic/Theme\n",
    "        2. Key Points\n",
    "        3. Important Details\n",
    "        4. Conclusions/Takeaways\n",
    "        \n",
    "        DETAILED SUMMARY:\n",
    "        \"\"\"\n",
    "        \n",
    "        # Create the summary chain\n",
    "        self.map_prompt = PromptTemplate(\n",
    "            template=self.map_prompt_template,\n",
    "            input_variables=[\"text\"]\n",
    "        )\n",
    "        \n",
    "        self.combine_prompt = PromptTemplate(\n",
    "            template=self.combine_prompt_template,\n",
    "            input_variables=[\"text\"]\n",
    "        )\n",
    "        \n",
    "        self.chain = load_summarize_chain(\n",
    "            llm=self.llm,\n",
    "            chain_type=\"map_reduce\",\n",
    "            map_prompt=self.map_prompt,\n",
    "            combine_prompt=self.combine_prompt,\n",
    "            verbose=False\n",
    "        )"
   ]
  }
 ],
 "metadata": {
  "kernelspec": {
   "display_name": "llm_hub",
   "language": "python",
   "name": "llm_hub"
  },
  "language_info": {
   "codemirror_mode": {
    "name": "ipython",
    "version": 3
   },
   "file_extension": ".py",
   "mimetype": "text/x-python",
   "name": "python",
   "nbconvert_exporter": "python",
   "pygments_lexer": "ipython3",
   "version": "3.12.9"
  }
 },
 "nbformat": 4,
 "nbformat_minor": 5
}
